{
 "cells": [
  {
   "cell_type": "code",
   "execution_count": 4,
   "metadata": {},
   "outputs": [],
   "source": [
    "import numpy as np\n",
    "import pandas as pd\n",
    "from matplotlib import dates as mpl_dates\n",
    "date_format = mpl_dates.DateFormatter('%d-%b\\n%Y')"
   ]
  },
  {
   "cell_type": "markdown",
   "metadata": {},
   "source": [
    "To download the information into the data folder"
   ]
  },
  {
   "cell_type": "code",
   "execution_count": 1,
   "metadata": {},
   "outputs": [
    {
     "name": "stdout",
     "output_type": "stream",
     "text": [
      "--2025-03-09 08:02:44--  https://www.cpc.ncep.noaa.gov/data/indices/oni.ascii.txt\n",
      "Resolving www.cpc.ncep.noaa.gov (www.cpc.ncep.noaa.gov)... 140.90.101.19\n",
      "Connecting to www.cpc.ncep.noaa.gov (www.cpc.ncep.noaa.gov)|140.90.101.19|:443... connected.\n",
      "HTTP request sent, awaiting response... 200 OK\n",
      "Length: 22550 (22K) [text/plain]\n",
      "Saving to: ‘../data/oni.ascii.txt’\n",
      "\n",
      "oni.ascii.txt       100%[===================>]  22,02K  --.-KB/s    in 0,09s   \n",
      "\n",
      "2025-03-09 08:02:44 (252 KB/s) - ‘../data/oni.ascii.txt’ saved [22550/22550]\n",
      "\n"
     ]
    }
   ],
   "source": [
    "!wget -c https://www.cpc.ncep.noaa.gov/data/indices/oni.ascii.txt -P ../data/"
   ]
  },
  {
   "cell_type": "markdown",
   "metadata": {},
   "source": [
    "The Oceanic Niño Index (ONI) dataset from NOAA’s Climate Prediction Center provides three-month running mean sea surface temperature (SST) anomalies in the Niño 3.4 region (5°N-5°S, 120°W-170°W). This dataset is commonly used to monitor **El Niño** and **La Niña** events.\n",
    "\n",
    "**Interpretation:**\n",
    "* **El Niño:** ONI ≥ +0.5°C for five consecutive overlapping seasons.\n",
    "* **La Niña:** ONI ≤ -0.5°C for five consecutive overlapping seasons.\n",
    "* **Neutral:** ONI between -0.5°C and +0.5°C.\n"
   ]
  },
  {
   "cell_type": "code",
   "execution_count": 28,
   "metadata": {},
   "outputs": [
    {
     "data": {
      "text/html": [
       "<div>\n",
       "<style scoped>\n",
       "    .dataframe tbody tr th:only-of-type {\n",
       "        vertical-align: middle;\n",
       "    }\n",
       "\n",
       "    .dataframe tbody tr th {\n",
       "        vertical-align: top;\n",
       "    }\n",
       "\n",
       "    .dataframe thead th {\n",
       "        text-align: right;\n",
       "    }\n",
       "</style>\n",
       "<table border=\"1\" class=\"dataframe\">\n",
       "  <thead>\n",
       "    <tr style=\"text-align: right;\">\n",
       "      <th></th>\n",
       "      <th>season</th>\n",
       "      <th>value</th>\n",
       "      <th>anomaly</th>\n",
       "      <th>date</th>\n",
       "    </tr>\n",
       "  </thead>\n",
       "  <tbody>\n",
       "    <tr>\n",
       "      <th>0</th>\n",
       "      <td>DJF 1950</td>\n",
       "      <td>24.72</td>\n",
       "      <td>-1.53</td>\n",
       "      <td>1950-01-01</td>\n",
       "    </tr>\n",
       "    <tr>\n",
       "      <th>1</th>\n",
       "      <td>JFM 1950</td>\n",
       "      <td>25.17</td>\n",
       "      <td>-1.34</td>\n",
       "      <td>1950-02-01</td>\n",
       "    </tr>\n",
       "    <tr>\n",
       "      <th>2</th>\n",
       "      <td>FMA 1950</td>\n",
       "      <td>25.75</td>\n",
       "      <td>-1.16</td>\n",
       "      <td>1950-03-01</td>\n",
       "    </tr>\n",
       "    <tr>\n",
       "      <th>3</th>\n",
       "      <td>MAM 1950</td>\n",
       "      <td>26.12</td>\n",
       "      <td>-1.18</td>\n",
       "      <td>1950-04-01</td>\n",
       "    </tr>\n",
       "    <tr>\n",
       "      <th>4</th>\n",
       "      <td>AMJ 1950</td>\n",
       "      <td>26.32</td>\n",
       "      <td>-1.07</td>\n",
       "      <td>1950-05-01</td>\n",
       "    </tr>\n",
       "    <tr>\n",
       "      <th>...</th>\n",
       "      <td>...</td>\n",
       "      <td>...</td>\n",
       "      <td>...</td>\n",
       "      <td>...</td>\n",
       "    </tr>\n",
       "    <tr>\n",
       "      <th>896</th>\n",
       "      <td>ASO 2024</td>\n",
       "      <td>26.55</td>\n",
       "      <td>-0.21</td>\n",
       "      <td>2024-09-01</td>\n",
       "    </tr>\n",
       "    <tr>\n",
       "      <th>897</th>\n",
       "      <td>SON 2024</td>\n",
       "      <td>26.45</td>\n",
       "      <td>-0.26</td>\n",
       "      <td>2024-10-01</td>\n",
       "    </tr>\n",
       "    <tr>\n",
       "      <th>898</th>\n",
       "      <td>OND 2024</td>\n",
       "      <td>26.30</td>\n",
       "      <td>-0.37</td>\n",
       "      <td>2024-11-01</td>\n",
       "    </tr>\n",
       "    <tr>\n",
       "      <th>899</th>\n",
       "      <td>NDJ 2024</td>\n",
       "      <td>26.09</td>\n",
       "      <td>-0.53</td>\n",
       "      <td>2024-12-01</td>\n",
       "    </tr>\n",
       "    <tr>\n",
       "      <th>900</th>\n",
       "      <td>DJF 2025</td>\n",
       "      <td>25.99</td>\n",
       "      <td>-0.64</td>\n",
       "      <td>2025-01-01</td>\n",
       "    </tr>\n",
       "  </tbody>\n",
       "</table>\n",
       "<p>901 rows × 4 columns</p>\n",
       "</div>"
      ],
      "text/plain": [
       "       season  value  anomaly       date\n",
       "0    DJF 1950  24.72    -1.53 1950-01-01\n",
       "1    JFM 1950  25.17    -1.34 1950-02-01\n",
       "2    FMA 1950  25.75    -1.16 1950-03-01\n",
       "3    MAM 1950  26.12    -1.18 1950-04-01\n",
       "4    AMJ 1950  26.32    -1.07 1950-05-01\n",
       "..        ...    ...      ...        ...\n",
       "896  ASO 2024  26.55    -0.21 2024-09-01\n",
       "897  SON 2024  26.45    -0.26 2024-10-01\n",
       "898  OND 2024  26.30    -0.37 2024-11-01\n",
       "899  NDJ 2024  26.09    -0.53 2024-12-01\n",
       "900  DJF 2025  25.99    -0.64 2025-01-01\n",
       "\n",
       "[901 rows x 4 columns]"
      ]
     },
     "execution_count": 28,
     "metadata": {},
     "output_type": "execute_result"
    }
   ],
   "source": [
    "enso_data = '../data/oni.ascii.txt'\n",
    "\n",
    "df_enso = pd.read_csv(enso_data, delimiter='  ',\n",
    "                      engine='python', skiprows=1, header=None,\n",
    "                      skipinitialspace=True, names=['season', 'value', 'anomaly'])\n",
    "\n",
    "dates_expanded = df_enso['season'].str.split(\" \", expand=True,)\n",
    "season_month = {'DJF': 1, 'JFM': 2, 'FMA': 3, 'MAM': 4, 'AMJ': 5, 'MJJ': 6,\n",
    "             'JJA': 7, 'JAS': 8, 'ASO': 9, 'SON': 10, 'OND': 11, 'NDJ': 12}\n",
    "\n",
    "dates = pd.date_range('{0}-{1}-01'.format\n",
    "                       (dates_expanded.iloc[0, 1],\n",
    "                        season_month[dates_expanded.iloc[0, 0]]),\n",
    "                       '{0}-{1}-01'.format(dates_expanded.iloc[-1, 1],\n",
    "                                           season_month[\n",
    "                           dates_expanded.iloc[-1, 0]]),\n",
    "                       freq='MS')\n",
    "df_enso['date'] = dates\n",
    "df_enso"
   ]
  }
 ],
 "metadata": {
  "kernelspec": {
   "display_name": "base",
   "language": "python",
   "name": "python3"
  },
  "language_info": {
   "codemirror_mode": {
    "name": "ipython",
    "version": 3
   },
   "file_extension": ".py",
   "mimetype": "text/x-python",
   "name": "python",
   "nbconvert_exporter": "python",
   "pygments_lexer": "ipython3",
   "version": "3.9.13"
  }
 },
 "nbformat": 4,
 "nbformat_minor": 2
}
